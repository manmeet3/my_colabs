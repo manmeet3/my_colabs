{
  "nbformat": 4,
  "nbformat_minor": 0,
  "metadata": {
    "colab": {
      "name": "dl_dataset_from_kaggle.ipynb",
      "provenance": [],
      "include_colab_link": true
    },
    "kernelspec": {
      "name": "python3",
      "display_name": "Python 3"
    }
  },
  "cells": [
    {
      "cell_type": "markdown",
      "metadata": {
        "id": "view-in-github",
        "colab_type": "text"
      },
      "source": [
        "<a href=\"https://colab.research.google.com/github/manmeet3/my_colabs/blob/master/convert_tfdataset_to_tfrecord.ipynb\" target=\"_parent\"><img src=\"https://colab.research.google.com/assets/colab-badge.svg\" alt=\"Open In Colab\"/></a>"
      ]
    },
    {
      "cell_type": "code",
      "metadata": {
        "id": "xnDu_n2VWFll"
      },
      "source": [
        "import os"
      ],
      "execution_count": 1,
      "outputs": []
    },
    {
      "cell_type": "code",
      "metadata": {
        "colab": {
          "base_uri": "https://localhost:8080/"
        },
        "id": "tqGRS246Vy2a",
        "outputId": "8cc7758a-e732-4a86-96f1-589e681c6833"
      },
      "source": [
        "from google.colab import drive\n",
        "drive.mount('/content/drive', force_remount=True)"
      ],
      "execution_count": 2,
      "outputs": [
        {
          "output_type": "stream",
          "text": [
            "Mounted at /content/drive\n"
          ],
          "name": "stdout"
        }
      ]
    },
    {
      "cell_type": "code",
      "metadata": {
        "colab": {
          "base_uri": "https://localhost:8080/"
        },
        "id": "kmzNxTa8V37E",
        "outputId": "93b3a95b-7f78-4793-cbed-287fa5998398"
      },
      "source": [
        "%cd /content/drive/Shared\\ drives/DL2-project/Datasets"
      ],
      "execution_count": 3,
      "outputs": [
        {
          "output_type": "stream",
          "text": [
            "/content/drive/Shared drives/DL2-project/Datasets\n"
          ],
          "name": "stdout"
        }
      ]
    },
    {
      "cell_type": "code",
      "metadata": {
        "id": "-FVYr5pUV5TI"
      },
      "source": [
        "os.environ['KAGGLE_USERNAME'] = \"manmeet3\" # username from the json file\n",
        "os.environ['KAGGLE_KEY'] = \"0948ff0e9e993e3c5d69de02ca1b882f\" # key from the json file"
      ],
      "execution_count": null,
      "outputs": []
    },
    {
      "cell_type": "code",
      "metadata": {
        "id": "hXcZfZmQXDOV"
      },
      "source": [
        "!mkdir plant_pathology"
      ],
      "execution_count": null,
      "outputs": []
    },
    {
      "cell_type": "code",
      "metadata": {
        "colab": {
          "base_uri": "https://localhost:8080/"
        },
        "id": "H-aTkLs6XFa8",
        "outputId": "bd6b3468-973a-4c85-d1ee-dc5c3e350a3c"
      },
      "source": [
        "%cd ./plant_pathology/"
      ],
      "execution_count": null,
      "outputs": [
        {
          "output_type": "stream",
          "text": [
            "/content/drive/Shareddrives/DL2-project/Datasets/plant_pathology\n"
          ],
          "name": "stdout"
        }
      ]
    },
    {
      "cell_type": "code",
      "metadata": {
        "colab": {
          "base_uri": "https://localhost:8080/"
        },
        "id": "zNMdRH4kV7BF",
        "outputId": "b217e13c-b087-4375-8243-c79d7cbcab9f"
      },
      "source": [
        "!kaggle competitions download -c plant-pathology-2020-fgvc7 "
      ],
      "execution_count": null,
      "outputs": [
        {
          "output_type": "stream",
          "text": [
            "Warning: Looks like you're using an outdated API Version, please consider updating (server 1.5.10 / client 1.5.4)\n",
            "Downloading Test_1010.jpg to /content/drive/Shareddrives/DL2-project/Datasets/plant_pathology\n",
            "  0% 0.00/283k [00:00<?, ?B/s]\n",
            "100% 283k/283k [00:00<00:00, 18.5MB/s]\n",
            "Downloading Test_101.jpg to /content/drive/Shareddrives/DL2-project/Datasets/plant_pathology\n",
            "  0% 0.00/204k [00:00<?, ?B/s]\n",
            "100% 204k/204k [00:00<00:00, 26.9MB/s]\n",
            "Downloading Test_0.jpg to /content/drive/Shareddrives/DL2-project/Datasets/plant_pathology\n",
            "  0% 0.00/227k [00:00<?, ?B/s]\n",
            "100% 227k/227k [00:00<00:00, 15.0MB/s]\n",
            "Downloading Test_10.jpg to /content/drive/Shareddrives/DL2-project/Datasets/plant_pathology\n",
            "  0% 0.00/245k [00:00<?, ?B/s]\n",
            "100% 245k/245k [00:00<00:00, 30.5MB/s]\n",
            "Downloading Test_1005.jpg to /content/drive/Shareddrives/DL2-project/Datasets/plant_pathology\n",
            "  0% 0.00/180k [00:00<?, ?B/s]\n",
            "100% 180k/180k [00:00<00:00, 12.0MB/s]\n",
            "Downloading Test_1006.jpg to /content/drive/Shareddrives/DL2-project/Datasets/plant_pathology\n",
            "  0% 0.00/207k [00:00<?, ?B/s]\n",
            "100% 207k/207k [00:00<00:00, 13.8MB/s]\n",
            "Downloading Test_1009.jpg to /content/drive/Shareddrives/DL2-project/Datasets/plant_pathology\n",
            "  0% 0.00/220k [00:00<?, ?B/s]\n",
            "100% 220k/220k [00:00<00:00, 3.53MB/s]\n",
            "Downloading Test_1013.jpg to /content/drive/Shareddrives/DL2-project/Datasets/plant_pathology\n",
            "  0% 0.00/170k [00:00<?, ?B/s]\n",
            "100% 170k/170k [00:00<00:00, 23.1MB/s]\n",
            "Downloading Test_1011.jpg to /content/drive/Shareddrives/DL2-project/Datasets/plant_pathology\n",
            "  0% 0.00/290k [00:00<?, ?B/s]\n",
            "100% 290k/290k [00:00<00:00, 37.9MB/s]\n",
            "Downloading Test_1000.jpg to /content/drive/Shareddrives/DL2-project/Datasets/plant_pathology\n",
            "  0% 0.00/238k [00:00<?, ?B/s]\n",
            "100% 238k/238k [00:00<00:00, 31.8MB/s]\n",
            "Downloading Test_1004.jpg to /content/drive/Shareddrives/DL2-project/Datasets/plant_pathology\n",
            "  0% 0.00/232k [00:00<?, ?B/s]\n",
            "100% 232k/232k [00:00<00:00, 31.9MB/s]\n",
            "Downloading Test_1008.jpg to /content/drive/Shareddrives/DL2-project/Datasets/plant_pathology\n",
            "  0% 0.00/274k [00:00<?, ?B/s]\n",
            "100% 274k/274k [00:00<00:00, 38.9MB/s]\n",
            "Downloading Test_1003.jpg to /content/drive/Shareddrives/DL2-project/Datasets/plant_pathology\n",
            "  0% 0.00/213k [00:00<?, ?B/s]\n",
            "100% 213k/213k [00:00<00:00, 13.3MB/s]\n",
            "Downloading Test_1012.jpg to /content/drive/Shareddrives/DL2-project/Datasets/plant_pathology\n",
            "  0% 0.00/174k [00:00<?, ?B/s]\n",
            "100% 174k/174k [00:00<00:00, 23.8MB/s]\n",
            "Downloading Test_1007.jpg to /content/drive/Shareddrives/DL2-project/Datasets/plant_pathology\n",
            "  0% 0.00/124k [00:00<?, ?B/s]\n",
            "100% 124k/124k [00:00<00:00, 17.9MB/s]\n",
            "Downloading Test_1001.jpg to /content/drive/Shareddrives/DL2-project/Datasets/plant_pathology\n",
            "  0% 0.00/226k [00:00<?, ?B/s]\n",
            "100% 226k/226k [00:00<00:00, 31.0MB/s]\n",
            "Downloading Test_100.jpg to /content/drive/Shareddrives/DL2-project/Datasets/plant_pathology\n",
            "  0% 0.00/275k [00:00<?, ?B/s]\n",
            "100% 275k/275k [00:00<00:00, 36.9MB/s]\n",
            "Downloading Test_1.jpg to /content/drive/Shareddrives/DL2-project/Datasets/plant_pathology\n",
            "  0% 0.00/294k [00:00<?, ?B/s]\n",
            "100% 294k/294k [00:00<00:00, 41.2MB/s]\n",
            "Downloading Test_1014.jpg to /content/drive/Shareddrives/DL2-project/Datasets/plant_pathology\n",
            "  0% 0.00/218k [00:00<?, ?B/s]\n",
            "100% 218k/218k [00:00<00:00, 30.6MB/s]\n",
            "Downloading Test_1002.jpg to /content/drive/Shareddrives/DL2-project/Datasets/plant_pathology\n",
            "  0% 0.00/214k [00:00<?, ?B/s]\n",
            "100% 214k/214k [00:00<00:00, 26.6MB/s]\n",
            "Downloading train.csv to /content/drive/Shareddrives/DL2-project/Datasets/plant_pathology\n",
            "  0% 0.00/32.7k [00:00<?, ?B/s]\n",
            "100% 32.7k/32.7k [00:00<00:00, 2.01MB/s]\n",
            "Downloading test.csv to /content/drive/Shareddrives/DL2-project/Datasets/plant_pathology\n",
            "  0% 0.00/16.7k [00:00<?, ?B/s]\n",
            "100% 16.7k/16.7k [00:00<00:00, 2.28MB/s]\n",
            "Downloading sample_submission.csv to /content/drive/Shareddrives/DL2-project/Datasets/plant_pathology\n",
            "  0% 0.00/52.3k [00:00<?, ?B/s]\n",
            "100% 52.3k/52.3k [00:00<00:00, 7.19MB/s]\n"
          ],
          "name": "stdout"
        }
      ]
    },
    {
      "cell_type": "code",
      "metadata": {
        "id": "-CEGtUYgWZ1E"
      },
      "source": [
        "!rm *.csv"
      ],
      "execution_count": null,
      "outputs": []
    },
    {
      "cell_type": "code",
      "metadata": {
        "colab": {
          "base_uri": "https://localhost:8080/"
        },
        "id": "QnTtlPn0Wdb0",
        "outputId": "3c86e139-c7d6-4783-f7e6-3e56d8e50589"
      },
      "source": [
        "!pwd"
      ],
      "execution_count": null,
      "outputs": [
        {
          "output_type": "stream",
          "text": [
            "/content/drive/Shareddrives/DL2-project/Datasets\n"
          ],
          "name": "stdout"
        }
      ]
    },
    {
      "cell_type": "code",
      "metadata": {
        "id": "URcC_g6fWf9E"
      },
      "source": [
        "import tensorflow_datasets as tfds"
      ],
      "execution_count": 4,
      "outputs": []
    },
    {
      "cell_type": "code",
      "metadata": {
        "id": "huPadix8rQj-"
      },
      "source": [
        "builder = tfds.ImageFolder('./Alzheimers')"
      ],
      "execution_count": 7,
      "outputs": []
    },
    {
      "cell_type": "code",
      "metadata": {
        "id": "hLdOI4SxrX9q"
      },
      "source": [
        "import tensorflow as tf"
      ],
      "execution_count": 8,
      "outputs": []
    },
    {
      "cell_type": "code",
      "metadata": {
        "id": "GWU2y5RasHXq"
      },
      "source": [
        "train_ds = builder.as_dataset(split='train', shuffle_files=True)\r\n",
        "test_ds = builder.as_dataset(split='test', shuffle_files=True)"
      ],
      "execution_count": 10,
      "outputs": []
    },
    {
      "cell_type": "code",
      "metadata": {
        "colab": {
          "base_uri": "https://localhost:8080/",
          "height": 442
        },
        "id": "krqrBBkIr_mc",
        "outputId": "1c2d3310-9fca-4283-8594-df4279d1538f"
      },
      "source": [
        "tfrec = tf.data.TFRecordDataset(train_ds)"
      ],
      "execution_count": 11,
      "outputs": [
        {
          "output_type": "error",
          "ename": "TypeError",
          "evalue": "ignored",
          "traceback": [
            "\u001b[0;31m---------------------------------------------------------------------------\u001b[0m",
            "\u001b[0;31mTypeError\u001b[0m                                 Traceback (most recent call last)",
            "\u001b[0;32m<ipython-input-11-ea718b3a6561>\u001b[0m in \u001b[0;36m<module>\u001b[0;34m()\u001b[0m\n\u001b[0;32m----> 1\u001b[0;31m \u001b[0mtfrec\u001b[0m \u001b[0;34m=\u001b[0m \u001b[0mtf\u001b[0m\u001b[0;34m.\u001b[0m\u001b[0mdata\u001b[0m\u001b[0;34m.\u001b[0m\u001b[0mTFRecordDataset\u001b[0m\u001b[0;34m(\u001b[0m\u001b[0mtrain_ds\u001b[0m\u001b[0;34m)\u001b[0m\u001b[0;34m\u001b[0m\u001b[0;34m\u001b[0m\u001b[0m\n\u001b[0m",
            "\u001b[0;32m/usr/local/lib/python3.6/dist-packages/tensorflow/python/data/ops/readers.py\u001b[0m in \u001b[0;36m__init__\u001b[0;34m(self, filenames, compression_type, buffer_size, num_parallel_reads)\u001b[0m\n\u001b[1;32m    318\u001b[0m       \u001b[0mValueError\u001b[0m\u001b[0;34m:\u001b[0m \u001b[0mIf\u001b[0m \u001b[0many\u001b[0m \u001b[0margument\u001b[0m \u001b[0mdoes\u001b[0m \u001b[0;32mnot\u001b[0m \u001b[0mhave\u001b[0m \u001b[0mthe\u001b[0m \u001b[0mexpected\u001b[0m \u001b[0mshape\u001b[0m\u001b[0;34m.\u001b[0m\u001b[0;34m\u001b[0m\u001b[0;34m\u001b[0m\u001b[0m\n\u001b[1;32m    319\u001b[0m     \"\"\"\n\u001b[0;32m--> 320\u001b[0;31m     \u001b[0mfilenames\u001b[0m \u001b[0;34m=\u001b[0m \u001b[0m_create_or_validate_filenames_dataset\u001b[0m\u001b[0;34m(\u001b[0m\u001b[0mfilenames\u001b[0m\u001b[0;34m)\u001b[0m\u001b[0;34m\u001b[0m\u001b[0;34m\u001b[0m\u001b[0m\n\u001b[0m\u001b[1;32m    321\u001b[0m \u001b[0;34m\u001b[0m\u001b[0m\n\u001b[1;32m    322\u001b[0m     \u001b[0mself\u001b[0m\u001b[0;34m.\u001b[0m\u001b[0m_filenames\u001b[0m \u001b[0;34m=\u001b[0m \u001b[0mfilenames\u001b[0m\u001b[0;34m\u001b[0m\u001b[0;34m\u001b[0m\u001b[0m\n",
            "\u001b[0;32m/usr/local/lib/python3.6/dist-packages/tensorflow/python/data/ops/readers.py\u001b[0m in \u001b[0;36m_create_or_validate_filenames_dataset\u001b[0;34m(filenames)\u001b[0m\n\u001b[1;32m     46\u001b[0m     \u001b[0;32mif\u001b[0m \u001b[0mdataset_ops\u001b[0m\u001b[0;34m.\u001b[0m\u001b[0mget_legacy_output_types\u001b[0m\u001b[0;34m(\u001b[0m\u001b[0mfilenames\u001b[0m\u001b[0;34m)\u001b[0m \u001b[0;34m!=\u001b[0m \u001b[0mdtypes\u001b[0m\u001b[0;34m.\u001b[0m\u001b[0mstring\u001b[0m\u001b[0;34m:\u001b[0m\u001b[0;34m\u001b[0m\u001b[0;34m\u001b[0m\u001b[0m\n\u001b[1;32m     47\u001b[0m       raise TypeError(\n\u001b[0;32m---> 48\u001b[0;31m           \"`filenames` must be a `tf.data.Dataset` of `tf.string` elements.\")\n\u001b[0m\u001b[1;32m     49\u001b[0m     if not dataset_ops.get_legacy_output_shapes(filenames).is_compatible_with(\n\u001b[1;32m     50\u001b[0m         tensor_shape.TensorShape([])):\n",
            "\u001b[0;31mTypeError\u001b[0m: `filenames` must be a `tf.data.Dataset` of `tf.string` elements."
          ]
        }
      ]
    },
    {
      "cell_type": "code",
      "metadata": {
        "id": "nzz6-I4isBto"
      },
      "source": [
        ""
      ],
      "execution_count": null,
      "outputs": []
    }
  ]
}